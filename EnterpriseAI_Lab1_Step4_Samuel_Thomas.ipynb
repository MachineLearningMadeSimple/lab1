{
 "cells": [
  {
   "cell_type": "code",
   "execution_count": 3,
   "metadata": {},
   "outputs": [],
   "source": [
    "# a simple picnic RRSVP guest list\n",
    "\n",
    "all_guests = {'Charles': {'Mango salad': 5, 'pretzels': 12},\n",
    "'Avery': {'Cripsy chicken sandwiches': 3, 'oranges': 2},\n",
    "'Carol': {'cups': 3, 'apple pies': 1}}\n"
   ]
  },
  {
   "cell_type": "code",
   "execution_count": 7,
   "metadata": {},
   "outputs": [
    {
     "name": "stdout",
     "output_type": "stream",
     "text": [
      "Number of things being brought:\n",
      " - mango salad: 0\n",
      " - Cups: \t3\n",
      " - pretzels: 12\n",
      " - Crispy chicken Sandwiches: 0\n",
      " - Apple Pies: 1\n"
     ]
    }
   ],
   "source": [
    "def totalItems(guests, item):\n",
    "    numBrought = 0\n",
    "    for k, v in guests.items():\n",
    "        numBrought = numBrought + v.get(item, 0)\n",
    "    return numBrought\n",
    "print('Number of things being brought:')\n",
    "print(' - mango salad: ' + str(totalItems(all_guests, 'mango salad')))\n",
    "print(' - Cups:' + str(totalItems(all_guests, 'cups')))\n",
    "print(' - pretzels: ' + str(totalItems(all_guests, 'pretzels')))\n",
    "print(' - Crispy chicken Sandwiches: ' + str(totalItems(all_guests, 'cripsy chicken sandwiches')))\n",
    "print(' - Apple Pies: ' + str(totalItems(all_guests, 'apple pies')))"
   ]
  },
  {
   "cell_type": "code",
   "execution_count": null,
   "metadata": {},
   "outputs": [],
   "source": []
  }
 ],
 "metadata": {
  "kernelspec": {
   "display_name": "Python 3",
   "language": "python",
   "name": "python3"
  },
  "language_info": {
   "codemirror_mode": {
    "name": "ipython",
    "version": 3
   },
   "file_extension": ".py",
   "mimetype": "text/x-python",
   "name": "python",
   "nbconvert_exporter": "python",
   "pygments_lexer": "ipython3",
   "version": "3.7.3"
  }
 },
 "nbformat": 4,
 "nbformat_minor": 2
}
